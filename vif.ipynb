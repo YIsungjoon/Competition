{
 "cells": [
  {
   "cell_type": "code",
   "execution_count": null,
   "metadata": {},
   "outputs": [],
   "source": [
    "# for checking multi-collinearity\n",
    "from statsmodels.stats.outliers_influence import variance_inflation_factor\n",
    "\n",
    "def check_vif(df):\n",
    "    vifs = [variance_inflation_factor(df, i) for i in range(df.shape[1])]\n",
    "    vif_df = pd.DataFrame({\"features\":df.columns, \"VIF\" : vifs})\n",
    "    vif_df = vif_df.sort_values(by=\"VIF\", ascending=False)\n",
    "    remove_col = vif_df.iloc[0, 0]\n",
    "    top_vif = vif_df.iloc[0, 1]\n",
    "    return vif_df, remove_col, top_vif\n",
    "\n",
    "apply_vif = False\n",
    "# remove all features when VIF is over 10.\n",
    "if apply_vif:\n",
    "    top_vif = 100\n",
    "\n",
    "    while(top_vif > 10):\n",
    "        vif_df, remove_col, top_vif = check_vif(train)\n",
    "        print(remove_col, top_vif)\n",
    "        if top_vif < 10:\n",
    "            break\n",
    "        train = train.drop(columns=remove_col)\n",
    "        test = test.drop(columns=remove_col)\n",
    "    display(train)"
   ]
  }
 ],
 "metadata": {
  "language_info": {
   "name": "python"
  },
  "orig_nbformat": 4
 },
 "nbformat": 4,
 "nbformat_minor": 2
}
